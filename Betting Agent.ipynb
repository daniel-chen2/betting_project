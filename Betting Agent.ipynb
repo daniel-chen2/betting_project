{
 "cells": [
  {
   "cell_type": "code",
   "execution_count": 4,
   "metadata": {},
   "outputs": [],
   "source": [
    "import pandas as pd\n",
    "import numpy as np\n",
    "import Clients.OddsApiClient as oddsApi\n",
    "import sys\n",
    "from Models.H2hEvent import H2hEvent, H2hBookmaker \n",
    "from Transformers.H2hEventTransformer import oddsApiEventsToH2hEvent\n",
    "import importlib\n"
   ]
  },
  {
   "cell_type": "code",
   "execution_count": 5,
   "metadata": {},
   "outputs": [
    {
     "name": "stdout",
     "output_type": "stream",
     "text": [
      "2025-08-07T02:46:58Z\n"
     ]
    }
   ],
   "source": [
    "from datetime import datetime, timedelta, timezone\n",
    "\n",
    "current_utc_time = datetime.now(timezone.utc)\n",
    "future_time = current_utc_time + timedelta(hours=48)\n",
    "iso_formatted_time_with_z = future_time.isoformat(timespec=\"seconds\").replace(\n",
    "    \"+00:00\", \"Z\"\n",
    ")\n",
    "current_formatted_time = current_utc_time.isoformat(timespec=\"seconds\").replace(\n",
    "    \"+00:00\", \"Z\"\n",
    ")\n",
    "print(iso_formatted_time_with_z)"
   ]
  },
  {
   "cell_type": "code",
   "execution_count": null,
   "metadata": {},
   "outputs": [
    {
     "ename": "SyntaxError",
     "evalue": "invalid syntax. Perhaps you forgot a comma? (1236139388.py, line 6)",
     "output_type": "error",
     "traceback": [
      "  \u001b[36mCell\u001b[39m\u001b[36m \u001b[39m\u001b[32mIn[14]\u001b[39m\u001b[32m, line 6\u001b[39m\n\u001b[31m    \u001b[39m\u001b[31msports=oddsApi[sport for sport in ALL_SPORTS if \"soccer\" in sport], regions=[oddsApi.Regions.UK], markets=[oddsApi.Markets.H2H], commenceTimeFrom=current_formatted_time, commenceTimeTo=iso_formatted_time_with_z)\u001b[39m\n           ^\n\u001b[31mSyntaxError\u001b[39m\u001b[31m:\u001b[39m invalid syntax. Perhaps you forgot a comma?\n"
     ]
    }
   ],
   "source": [
    "importlib.reload(oddsApi)\n",
    "\n",
    "# sports = oddsApi.ALL_SOCCER_SPORTS + oddsApi.All_OTHER_SPORTS\n",
    "\n",
    "soccer_events = oddsApi.getEventsForMultipleSports(\n",
    "    sports=[sport for sport in oddsApi.ALL_SPORTS if \"soccer\" in sport], regions=[oddsApi.Regions.UK], markets=[oddsApi.Markets.H2H], commenceTimeFrom=current_formatted_time, commenceTimeTo=iso_formatted_time_with_z)"
   ]
  },
  {
   "cell_type": "code",
   "execution_count": 13,
   "metadata": {},
   "outputs": [
    {
     "name": "stdout",
     "output_type": "stream",
     "text": [
      "                                 id      bookmaker       home_team away_team             commence_time  odds  odds_with_commision                    sport_key guessed_outcome  betAmount  kellyBetRatio  halfKellyBetRatio  bookmaker_average_odds  number_of_bookmakers outcome     alpha\n",
      "0  c8a364012cd5df6bd400a6ca649fe26b  betfair_ex_uk  Inter Miami CF     Pumas 2025-08-06 23:30:00+00:00  2.04                 2.04  soccer_concacaf_leagues_cup    H2hOutcome.H         10       0.037823           0.018911                1.962792                    12    None  0.019282\n"
     ]
    }
   ],
   "source": [
    "import Betting_Engines.H2hEventAboveMeanOddsBettingEngine as BettingEngine\n",
    "import sys\n",
    "\n",
    "from discord_bot import send_message\n",
    "\n",
    "importlib.reload(BettingEngine)\n",
    "\n",
    "bettingEngine = BettingEngine.H2hEventAboveMeanOddsBettingEngine(\n",
    "    alpha=0.01,\n",
    "    # betOddsUpperLimit=2.5,\n",
    "    betAmount=10,\n",
    "    commision=0.0,\n",
    "    singleBookmaker=\"betfair_ex_uk\"\n",
    ")\n",
    "\n",
    "current_utc_time = datetime.now(timezone.utc).strftime(\"%Y-%m-%d_%H-%M-%S\")\n",
    "\n",
    "result_df = pd.DataFrame(bettingEngine.analyseAndFindBets(oddsApiEventsToH2hEvent(soccer_events)))\n",
    "csv_url = f'Results/{current_utc_time}_results.csv'\n",
    "result_df.to_csv(csv_url, index=False) \n",
    "\n",
    "# if(len(result_df) > 0):\n",
    "#     send_message(\"Results:\", csv_url)\n",
    "\n",
    "print(result_df.to_string())"
   ]
  }
 ],
 "metadata": {
  "kernelspec": {
   "display_name": "betting_project_venv (3.13.5)",
   "language": "python",
   "name": "python3"
  },
  "language_info": {
   "codemirror_mode": {
    "name": "ipython",
    "version": 3
   },
   "file_extension": ".py",
   "mimetype": "text/x-python",
   "name": "python",
   "nbconvert_exporter": "python",
   "pygments_lexer": "ipython3",
   "version": "3.13.5"
  }
 },
 "nbformat": 4,
 "nbformat_minor": 2
}
